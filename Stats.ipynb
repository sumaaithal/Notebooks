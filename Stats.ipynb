{
 "cells": [
  {
   "cell_type": "code",
   "execution_count": 104,
   "id": "17fa2c4f-9614-4f08-b6cb-d3abfa4ec78b",
   "metadata": {},
   "outputs": [],
   "source": [
    "from scipy.stats import uniform,binom, norm, poisson\n",
    "import pandas as pd\n",
    "import numpy as np\n",
    "import matplotlib.pyplot as plt\n",
    "import seaborn as sns"
   ]
  },
  {
   "cell_type": "code",
   "execution_count": 6,
   "id": "4e6016dd-d2db-4b60-adcb-86a57f8ffad8",
   "metadata": {},
   "outputs": [
    {
     "data": {
      "text/plain": [
       "0.41666666666666663"
      ]
     },
     "execution_count": 6,
     "metadata": {},
     "output_type": "execute_result"
    }
   ],
   "source": [
    "1 - uniform.cdf(7,0,12)"
   ]
  },
  {
   "cell_type": "code",
   "execution_count": 14,
   "id": "3c523dfd-5a88-4827-aa06-3c144dc6b469",
   "metadata": {},
   "outputs": [
    {
     "data": {
      "text/plain": [
       "array([0.37790901, 2.75526019, 4.41656272, 0.20992843, 3.47402217])"
      ]
     },
     "execution_count": 14,
     "metadata": {},
     "output_type": "execute_result"
    }
   ],
   "source": [
    "uniform.rvs(0,12,5)"
   ]
  },
  {
   "cell_type": "code",
   "execution_count": 36,
   "id": "fdd3207f-ee2c-4170-8427-96500145c211",
   "metadata": {},
   "outputs": [
    {
     "data": {
      "text/plain": [
       "array([1, 2, 1, 2, 2, 0, 0, 1, 1, 3, 2, 0, 1, 2, 2, 2, 1, 2, 1, 1])"
      ]
     },
     "execution_count": 36,
     "metadata": {},
     "output_type": "execute_result"
    }
   ],
   "source": [
    "binom.rvs(3,0.5,size=20) #number of coins, success of heads, number of trials"
   ]
  },
  {
   "cell_type": "code",
   "execution_count": 40,
   "id": "44dd1646-f922-4b5b-ae7d-57c4243b952e",
   "metadata": {},
   "outputs": [
    {
     "data": {
      "text/plain": [
       "0.11718750000000004"
      ]
     },
     "execution_count": 40,
     "metadata": {},
     "output_type": "execute_result"
    }
   ],
   "source": [
    "binom.pmf(7,10,0.5) #number of heads, number of trials, success heads=7"
   ]
  },
  {
   "cell_type": "code",
   "execution_count": 42,
   "id": "ad7d3170-165e-48b4-91e0-8042c8f9071b",
   "metadata": {},
   "outputs": [
    {
     "data": {
      "text/plain": [
       "0.9453125"
      ]
     },
     "execution_count": 42,
     "metadata": {},
     "output_type": "execute_result"
    }
   ],
   "source": [
    "binom.cdf(7,10,0.5) #<=7"
   ]
  },
  {
   "cell_type": "code",
   "execution_count": 46,
   "id": "950ee550-c8bb-4acc-bf46-b65e28bcb082",
   "metadata": {},
   "outputs": [
    {
     "data": {
      "text/plain": [
       "5.0"
      ]
     },
     "execution_count": 46,
     "metadata": {},
     "output_type": "execute_result"
    }
   ],
   "source": [
    "n=10\n",
    "p=0.5\n",
    "expected_value = n*p\n",
    "expected_value"
   ]
  },
  {
   "cell_type": "code",
   "execution_count": 48,
   "id": "9fe9c0c4-42bb-4a44-84e3-8245bead82e2",
   "metadata": {},
   "outputs": [],
   "source": [
    "# 68% falls within 1 std \n",
    "# 97% falls within 2 std\n",
    "# 99% falls within 3 std"
   ]
  },
  {
   "cell_type": "code",
   "execution_count": 52,
   "id": "cbb85f3b-229e-4e04-8aaa-d928998bf934",
   "metadata": {},
   "outputs": [
    {
     "data": {
      "text/plain": [
       "0.2838545830986763"
      ]
     },
     "execution_count": 52,
     "metadata": {},
     "output_type": "execute_result"
    }
   ],
   "source": [
    "norm.cdf(157,161,7) #<= 157 #x, mean, std"
   ]
  },
  {
   "cell_type": "code",
   "execution_count": 54,
   "id": "2eb61273-36b6-48f9-99f9-ede6fbd8047b",
   "metadata": {},
   "outputs": [
    {
     "data": {
      "text/plain": [
       "0.7161454169013237"
      ]
     },
     "execution_count": 54,
     "metadata": {},
     "output_type": "execute_result"
    }
   ],
   "source": [
    "1 - norm.cdf(157,161,7)"
   ]
  },
  {
   "cell_type": "code",
   "execution_count": 58,
   "id": "2c3d339a-658e-4045-bcb4-1653bd910b18",
   "metadata": {},
   "outputs": [
    {
     "data": {
      "text/plain": [
       "169.9708609588122"
      ]
     },
     "execution_count": 58,
     "metadata": {},
     "output_type": "execute_result"
    }
   ],
   "source": [
    "norm.ppf(0.9,161,7) #<= 90% shorter"
   ]
  },
  {
   "cell_type": "code",
   "execution_count": 60,
   "id": "66d19535-4293-4c88-8aca-ac943a3b935a",
   "metadata": {},
   "outputs": [
    {
     "data": {
      "text/plain": [
       "152.0291390411878"
      ]
     },
     "execution_count": 60,
     "metadata": {},
     "output_type": "execute_result"
    }
   ],
   "source": [
    "norm.ppf((1-0.9),161,7) #>=90% greater than"
   ]
  },
  {
   "cell_type": "code",
   "execution_count": 62,
   "id": "1fd24f9b-b0b4-4007-a6cf-8b68f9d5ddcb",
   "metadata": {},
   "outputs": [
    {
     "data": {
      "text/plain": [
       "array([164.42359613, 169.14275872, 162.07460889, 154.82548229,\n",
       "       164.8950564 , 165.3532586 , 164.29933276, 167.21421996,\n",
       "       181.93261966, 151.75038238])"
      ]
     },
     "execution_count": 62,
     "metadata": {},
     "output_type": "execute_result"
    }
   ],
   "source": [
    "norm.rvs(161,7,size=10)"
   ]
  },
  {
   "cell_type": "code",
   "execution_count": 68,
   "id": "3202143a-6c3c-4aae-853d-82d04ed9b15b",
   "metadata": {},
   "outputs": [
    {
     "data": {
      "text/plain": [
       "5    6\n",
       "3    4\n",
       "4    5\n",
       "5    6\n",
       "4    5\n",
       "dtype: int64"
      ]
     },
     "execution_count": 68,
     "metadata": {},
     "output_type": "execute_result"
    }
   ],
   "source": [
    "die = pd.Series([1,2,3,4,5,6])\n",
    "sample_5 = die.sample(n=5,replace=True)\n",
    "sample_5"
   ]
  },
  {
   "cell_type": "code",
   "execution_count": 82,
   "id": "8d7e535b-5fd3-48d8-8726-5e024dca5b4c",
   "metadata": {},
   "outputs": [],
   "source": [
    "sample_mean = []\n",
    "for i in range(1000):\n",
    "    sample_5 = die.sample(n=5,replace=True)\n",
    "    sample_mean.append(np.mean(sample_5))"
   ]
  },
  {
   "cell_type": "code",
   "execution_count": 84,
   "id": "38aeb08a-add6-4509-844e-ed8f525581fb",
   "metadata": {},
   "outputs": [
    {
     "data": {
      "text/plain": [
       "3.5296"
      ]
     },
     "execution_count": 84,
     "metadata": {},
     "output_type": "execute_result"
    }
   ],
   "source": [
    "np.mean(sample_mean)"
   ]
  },
  {
   "cell_type": "code",
   "execution_count": null,
   "id": "89919a72-d18e-42b6-8a2c-f00be45f9a51",
   "metadata": {},
   "outputs": [],
   "source": [
    "#poission\n",
    "#lambda -> average number of events per time interval\n",
    "#distribution -> probability of # of events at a fixed intervel of time at random"
   ]
  },
  {
   "cell_type": "code",
   "execution_count": 88,
   "id": "e5d165dd-b813-4dd7-b557-a9eec71bacf2",
   "metadata": {},
   "outputs": [
    {
     "data": {
      "text/plain": [
       "0.1277166682922895"
      ]
     },
     "execution_count": 88,
     "metadata": {},
     "output_type": "execute_result"
    }
   ],
   "source": [
    "poisson.pmf(5,7) #average number of events per time interval -> 7"
   ]
  },
  {
   "cell_type": "code",
   "execution_count": 90,
   "id": "5517086b-bbad-4e81-b0ac-a9e9b4db4a73",
   "metadata": {},
   "outputs": [
    {
     "data": {
      "text/plain": [
       "0.3007082761743611"
      ]
     },
     "execution_count": 90,
     "metadata": {},
     "output_type": "execute_result"
    }
   ],
   "source": [
    "poisson.cdf(5,7)"
   ]
  },
  {
   "cell_type": "code",
   "execution_count": 94,
   "id": "60bf4957-f3d9-4814-839d-126cc342ebe6",
   "metadata": {},
   "outputs": [
    {
     "data": {
      "text/plain": [
       "array([12,  7, 10,  5,  3,  7, 10,  2,  7,  2])"
      ]
     },
     "execution_count": 94,
     "metadata": {},
     "output_type": "execute_result"
    }
   ],
   "source": [
    "poisson.rvs(7,size=10)"
   ]
  },
  {
   "cell_type": "code",
   "execution_count": null,
   "id": "762474d0-f20e-4f3a-b558-7600eea4076f",
   "metadata": {},
   "outputs": [],
   "source": [
    "#scatter plot -> correlation"
   ]
  },
  {
   "cell_type": "code",
   "execution_count": 100,
   "id": "f6eaf2a6-9762-4c6d-bf88-234efef857d6",
   "metadata": {},
   "outputs": [
    {
     "data": {
      "text/html": [
       "<div>\n",
       "<style scoped>\n",
       "    .dataframe tbody tr th:only-of-type {\n",
       "        vertical-align: middle;\n",
       "    }\n",
       "\n",
       "    .dataframe tbody tr th {\n",
       "        vertical-align: top;\n",
       "    }\n",
       "\n",
       "    .dataframe thead th {\n",
       "        text-align: right;\n",
       "    }\n",
       "</style>\n",
       "<table border=\"1\" class=\"dataframe\">\n",
       "  <thead>\n",
       "    <tr style=\"text-align: right;\">\n",
       "      <th></th>\n",
       "      <th>country</th>\n",
       "      <th>food_category</th>\n",
       "      <th>consumption</th>\n",
       "      <th>co2_emission</th>\n",
       "    </tr>\n",
       "  </thead>\n",
       "  <tbody>\n",
       "    <tr>\n",
       "      <th>1</th>\n",
       "      <td>Argentina</td>\n",
       "      <td>pork</td>\n",
       "      <td>10.51</td>\n",
       "      <td>37.20</td>\n",
       "    </tr>\n",
       "    <tr>\n",
       "      <th>2</th>\n",
       "      <td>Argentina</td>\n",
       "      <td>poultry</td>\n",
       "      <td>38.66</td>\n",
       "      <td>41.53</td>\n",
       "    </tr>\n",
       "    <tr>\n",
       "      <th>3</th>\n",
       "      <td>Argentina</td>\n",
       "      <td>beef</td>\n",
       "      <td>55.48</td>\n",
       "      <td>1712.00</td>\n",
       "    </tr>\n",
       "    <tr>\n",
       "      <th>4</th>\n",
       "      <td>Argentina</td>\n",
       "      <td>lamb_goat</td>\n",
       "      <td>1.56</td>\n",
       "      <td>54.63</td>\n",
       "    </tr>\n",
       "    <tr>\n",
       "      <th>5</th>\n",
       "      <td>Argentina</td>\n",
       "      <td>fish</td>\n",
       "      <td>4.36</td>\n",
       "      <td>6.96</td>\n",
       "    </tr>\n",
       "  </tbody>\n",
       "</table>\n",
       "</div>"
      ],
      "text/plain": [
       "     country food_category  consumption  co2_emission\n",
       "1  Argentina          pork        10.51         37.20\n",
       "2  Argentina       poultry        38.66         41.53\n",
       "3  Argentina          beef        55.48       1712.00\n",
       "4  Argentina     lamb_goat         1.56         54.63\n",
       "5  Argentina          fish         4.36          6.96"
      ]
     },
     "execution_count": 100,
     "metadata": {},
     "output_type": "execute_result"
    }
   ],
   "source": [
    "food = pd.read_csv(\"Datasets/food_consumption.csv\",index_col=0)\n",
    "food.head()"
   ]
  },
  {
   "cell_type": "code",
   "execution_count": 106,
   "id": "a3e16e4e-8da1-4328-b1f3-482cd019f6e1",
   "metadata": {},
   "outputs": [
    {
     "data": {
      "text/plain": [
       "<seaborn.axisgrid.FacetGrid at 0x17462cef0>"
      ]
     },
     "execution_count": 106,
     "metadata": {},
     "output_type": "execute_result"
    },
    {
     "data": {
      "image/png": "[encoded data removed]",
      "text/plain": [
       "<Figure size 500x500 with 1 Axes>"
      ]
     },
     "metadata": {},
     "output_type": "display_data"
    }
   ],
   "source": [
    "sns.lmplot(x=\"consumption\",y=\"co2_emission\", data=food, ci=None)"
   ]
  },
  {
   "cell_type": "code",
   "execution_count": 112,
   "id": "d2109bf6-5967-4a84-b458-e3d85b481ae0",
   "metadata": {},
   "outputs": [
    {
     "data": {
      "text/plain": [
       "0.3342507044333652"
      ]
     },
     "execution_count": 112,
     "metadata": {},
     "output_type": "execute_result"
    }
   ],
   "source": [
    "food[\"consumption\"].corr(food[\"co2_emission\"])"
   ]
  },
  {
   "cell_type": "code",
   "execution_count": 116,
   "id": "58758c85-ee65-45ee-b5f8-3eade9a8341c",
   "metadata": {},
   "outputs": [
    {
     "name": "stderr",
     "output_type": "stream",
     "text": [
      "/opt/anaconda3/lib/python3.12/site-packages/pandas/core/arraylike.py:399: RuntimeWarning: divide by zero encountered in log\n",
      "  result = getattr(ufunc, method)(*inputs, **kwargs)\n"
     ]
    },
    {
     "data": {
      "text/plain": [
       "<seaborn.axisgrid.FacetGrid at 0x1746a8530>"
      ]
     },
     "execution_count": 116,
     "metadata": {},
     "output_type": "execute_result"
    },
    {
     "data": {
      "image/png": "[encoded data removed]",
      "text/plain": [
       "<Figure size 500x500 with 1 Axes>"
      ]
     },
     "metadata": {},
     "output_type": "display_data"
    }
   ],
   "source": [
    "food[\"co2_log\"] = np.log(food[\"co2_emission\"])\n",
    "sns.lmplot(x=\"consumption\",y=\"co2_log\", data=food, ci=None)"
   ]
  }
 ],
 "metadata": {
  "kernelspec": {
   "display_name": "Python 3 (ipykernel)",
   "language": "python",
   "name": "python3"
  },
  "language_info": {
   "codemirror_mode": {
    "name": "ipython",
    "version": 3
   },
   "file_extension": ".py",
   "mimetype": "text/x-python",
   "name": "python",
   "nbconvert_exporter": "python",
   "pygments_lexer": "ipython3",
   "version": "3.12.4"
  }
 },
 "nbformat": 4,
 "nbformat_minor": 5
}
