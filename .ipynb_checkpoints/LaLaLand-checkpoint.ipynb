{
 "cells": [
  {
   "cell_type": "code",
   "execution_count": 14,
   "id": "7d4f1768-5480-447c-b079-f01627bd1753",
   "metadata": {},
   "outputs": [
    {
     "name": "stdout",
     "output_type": "stream",
     "text": [
      "1\n",
      "2\n",
      "3\n",
      "4\n",
      "5\n"
     ]
    },
    {
     "ename": "StopIteration",
     "evalue": "",
     "output_type": "error",
     "traceback": [
      "\u001b[0;31m---------------------------------------------------------------------------\u001b[0m",
      "\u001b[0;31mStopIteration\u001b[0m                             Traceback (most recent call last)",
      "Cell \u001b[0;32mIn[14], line 8\u001b[0m\n\u001b[1;32m      6\u001b[0m \u001b[38;5;28mprint\u001b[39m(\u001b[38;5;28mnext\u001b[39m(i))\n\u001b[1;32m      7\u001b[0m \u001b[38;5;28mprint\u001b[39m(\u001b[38;5;28mnext\u001b[39m(i))\n\u001b[0;32m----> 8\u001b[0m \u001b[38;5;28mprint\u001b[39m(\u001b[38;5;28mnext\u001b[39m(i))\n",
      "\u001b[0;31mStopIteration\u001b[0m: "
     ]
    }
   ],
   "source": [
    "l1 = [1,2,3,4,5]\n",
    "i = iter(l1)\n",
    "print(next(i))\n",
    "print(next(i))\n",
    "print(next(i))\n",
    "print(next(i))\n",
    "print(next(i))\n",
    "print(next(i))"
   ]
  },
  {
   "cell_type": "code",
   "execution_count": 16,
   "id": "08bbed94-b2b7-413e-aaad-a7d8af123320",
   "metadata": {},
   "outputs": [
    {
     "name": "stdout",
     "output_type": "stream",
     "text": [
      "D a t a\n"
     ]
    }
   ],
   "source": [
    "word = \"Data\"\n",
    "it = iter(word)\n",
    "print(*it)"
   ]
  },
  {
   "cell_type": "code",
   "execution_count": 18,
   "id": "55f3a993-b488-4efb-b184-58681ddcea3a",
   "metadata": {},
   "outputs": [],
   "source": [
    "avengers = [\"hawkeye\", \"thor\",\"maximoff\"]\n",
    "names = [\"barton\", \"odinson\", \"silvereye\"]"
   ]
  },
  {
   "cell_type": "code",
   "execution_count": 20,
   "id": "d0b2fe3d-a196-498f-b5e1-7776f142d7ac",
   "metadata": {},
   "outputs": [],
   "source": [
    "zipped = zip(avengers, names)"
   ]
  },
  {
   "cell_type": "code",
   "execution_count": 22,
   "id": "6b00b450-e6e3-46b2-b6d1-1cfc7e9aa41a",
   "metadata": {},
   "outputs": [
    {
     "name": "stdout",
     "output_type": "stream",
     "text": [
      "('hawkeye', 'barton') ('thor', 'odinson') ('maximoff', 'silvereye')\n"
     ]
    }
   ],
   "source": [
    "print(*zipped)"
   ]
  },
  {
   "cell_type": "code",
   "execution_count": 24,
   "id": "d351da06-1066-45e4-8c47-8a7051feeac9",
   "metadata": {},
   "outputs": [
    {
     "data": {
      "text/plain": [
       "[0, 0, 2, 0, 4, 0, 6, 0, 8]"
      ]
     },
     "execution_count": 24,
     "metadata": {},
     "output_type": "execute_result"
    }
   ],
   "source": [
    "[num if num%2 == 0 else 0 for num in range(9)]"
   ]
  },
  {
   "cell_type": "code",
   "execution_count": 34,
   "id": "3eb41998-1997-4643-b5fe-498af2734b62",
   "metadata": {},
   "outputs": [],
   "source": [
    "res = (num for num in range(9))"
   ]
  },
  {
   "cell_type": "code",
   "execution_count": 32,
   "id": "2d3a3bd8-a4ad-4530-8f0d-fca9fcbc2857",
   "metadata": {},
   "outputs": [
    {
     "name": "stdout",
     "output_type": "stream",
     "text": [
      "0\n",
      "1\n",
      "2\n",
      "3\n",
      "4\n",
      "5\n",
      "6\n",
      "7\n",
      "8\n"
     ]
    }
   ],
   "source": [
    "for num in res:\n",
    "    print(num)"
   ]
  },
  {
   "cell_type": "code",
   "execution_count": 36,
   "id": "eadab86d-112f-497c-a034-2d50d9419cd6",
   "metadata": {},
   "outputs": [
    {
     "name": "stdout",
     "output_type": "stream",
     "text": [
      "0\n"
     ]
    }
   ],
   "source": [
    "print(next(res))"
   ]
  },
  {
   "cell_type": "code",
   "execution_count": 38,
   "id": "4cd08aef-8cc4-47d4-b562-585462b25130",
   "metadata": {},
   "outputs": [
    {
     "name": "stdout",
     "output_type": "stream",
     "text": [
      "1\n"
     ]
    }
   ],
   "source": [
    "print(next(res))"
   ]
  },
  {
   "cell_type": "code",
   "execution_count": 40,
   "id": "ecbd21b4-bee9-42f7-8b13-ceaaf8833f67",
   "metadata": {},
   "outputs": [],
   "source": [
    "def num_seq(n):\n",
    "    i = 0\n",
    "    while i < n:\n",
    "        yield i\n",
    "        i+=1"
   ]
  },
  {
   "cell_type": "code",
   "execution_count": 42,
   "id": "fb6eae63-63fc-4020-8464-7d27b4c3485e",
   "metadata": {},
   "outputs": [],
   "source": [
    "s = num_seq(9)"
   ]
  },
  {
   "cell_type": "code",
   "execution_count": 44,
   "id": "42370dad-4cef-48d1-bae7-8e50516b15d9",
   "metadata": {},
   "outputs": [
    {
     "data": {
      "text/plain": [
       "generator"
      ]
     },
     "execution_count": 44,
     "metadata": {},
     "output_type": "execute_result"
    }
   ],
   "source": [
    "type(s)"
   ]
  },
  {
   "cell_type": "code",
   "execution_count": 46,
   "id": "ef4f7dcb-0e88-41dd-98ea-4d30c22d43a7",
   "metadata": {},
   "outputs": [
    {
     "name": "stdout",
     "output_type": "stream",
     "text": [
      "0\n"
     ]
    }
   ],
   "source": [
    "print(next(s))"
   ]
  },
  {
   "cell_type": "code",
   "execution_count": 48,
   "id": "aa8bfc36-1893-4c72-a3fd-864a087da429",
   "metadata": {},
   "outputs": [
    {
     "name": "stdout",
     "output_type": "stream",
     "text": [
      "1\n"
     ]
    }
   ],
   "source": [
    "print(next(s))"
   ]
  },
  {
   "cell_type": "code",
   "execution_count": 50,
   "id": "15d40195-1e43-4515-8a37-01e2d7a4d26b",
   "metadata": {},
   "outputs": [
    {
     "data": {
      "text/plain": [
       "[0, 4, 16, 36]"
      ]
     },
     "execution_count": 50,
     "metadata": {},
     "output_type": "execute_result"
    }
   ],
   "source": [
    "[num**2 for num in range(10) if num%2==0 if num**2 < 50]"
   ]
  },
  {
   "cell_type": "code",
   "execution_count": null,
   "id": "35746953-4ecd-49be-93f8-5ea64c60c1c0",
   "metadata": {},
   "outputs": [],
   "source": []
  },
  {
   "cell_type": "code",
   "execution_count": null,
   "id": "8704a60a-674a-437e-ad7b-a1df9b810d53",
   "metadata": {},
   "outputs": [],
   "source": []
  }
 ],
 "metadata": {
  "kernelspec": {
   "display_name": "Python 3 (ipykernel)",
   "language": "python",
   "name": "python3"
  },
  "language_info": {
   "codemirror_mode": {
    "name": "ipython",
    "version": 3
   },
   "file_extension": ".py",
   "mimetype": "text/x-python",
   "name": "python",
   "nbconvert_exporter": "python",
   "pygments_lexer": "ipython3",
   "version": "3.12.4"
  }
 },
 "nbformat": 4,
 "nbformat_minor": 5
}
