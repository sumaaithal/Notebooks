{
 "cells": [
  {
   "cell_type": "code",
   "execution_count": 16,
   "id": "7e7bfb0f-7b64-497a-9fbd-7b12d4a639ba",
   "metadata": {},
   "outputs": [],
   "source": [
    "from decimal import Decimal\n",
    "from dataclasses import dataclass,asdict, astuple"
   ]
  },
  {
   "cell_type": "code",
   "execution_count": 26,
   "id": "49626726-dbc8-4d14-b2cd-f3333b5c58f7",
   "metadata": {},
   "outputs": [],
   "source": [
    "@dataclass(frozen=True)\n",
    "class Cookie:\n",
    "    name: str\n",
    "    cost: Decimal\n",
    "    quantity: int\n",
    "\n",
    "    @property\n",
    "    def get_value(self):\n",
    "        return int(self.quantity) * self.cost"
   ]
  },
  {
   "cell_type": "code",
   "execution_count": 28,
   "id": "87fc2be0-b343-42f8-8c73-cf55430b9fea",
   "metadata": {},
   "outputs": [],
   "source": [
    "c = Cookie(\"Peanut Butter\", Decimal(\"1.8\"), 8)"
   ]
  },
  {
   "cell_type": "code",
   "execution_count": 30,
   "id": "d08e15e7-8812-434d-b7d7-0ea9eec16ccd",
   "metadata": {},
   "outputs": [
    {
     "data": {
      "text/plain": [
       "Decimal('14.4')"
      ]
     },
     "execution_count": 30,
     "metadata": {},
     "output_type": "execute_result"
    }
   ],
   "source": [
    "c.get_value"
   ]
  },
  {
   "cell_type": "code",
   "execution_count": 32,
   "id": "270f27ca-8c8a-4215-917d-e4c0fd58efe1",
   "metadata": {},
   "outputs": [
    {
     "data": {
      "text/plain": [
       "{'name': 'Peanut Butter', 'cost': Decimal('1.8'), 'quantity': 8}"
      ]
     },
     "execution_count": 32,
     "metadata": {},
     "output_type": "execute_result"
    }
   ],
   "source": [
    "asdict(c)"
   ]
  },
  {
   "cell_type": "code",
   "execution_count": 34,
   "id": "1c8018df-e0f1-4238-84c5-41416b30294a",
   "metadata": {},
   "outputs": [
    {
     "ename": "FrozenInstanceError",
     "evalue": "cannot assign to field 'name'",
     "output_type": "error",
     "traceback": [
      "\u001b[0;31m---------------------------------------------------------------------------\u001b[0m",
      "\u001b[0;31mFrozenInstanceError\u001b[0m                       Traceback (most recent call last)",
      "Cell \u001b[0;32mIn[34], line 1\u001b[0m\n\u001b[0;32m----> 1\u001b[0m c\u001b[38;5;241m.\u001b[39mname \u001b[38;5;241m=\u001b[39m \u001b[38;5;124m\"\u001b[39m\u001b[38;5;124mAmy\u001b[39m\u001b[38;5;124m\"\u001b[39m\n",
      "File \u001b[0;32m<string>:4\u001b[0m, in \u001b[0;36m__setattr__\u001b[0;34m(self, name, value)\u001b[0m\n",
      "\u001b[0;31mFrozenInstanceError\u001b[0m: cannot assign to field 'name'"
     ]
    }
   ],
   "source": [
    "c.name = \"Amy\""
   ]
  }
 ],
 "metadata": {
  "kernelspec": {
   "display_name": "Python 3 (ipykernel)",
   "language": "python",
   "name": "python3"
  },
  "language_info": {
   "codemirror_mode": {
    "name": "ipython",
    "version": 3
   },
   "file_extension": ".py",
   "mimetype": "text/x-python",
   "name": "python",
   "nbconvert_exporter": "python",
   "pygments_lexer": "ipython3",
   "version": "3.12.4"
  }
 },
 "nbformat": 4,
 "nbformat_minor": 5
}
