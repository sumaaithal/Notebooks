{
 "cells": [
  {
   "cell_type": "code",
   "execution_count": 2,
   "id": "18a42972-2671-4035-9cb1-1c6fe9324e31",
   "metadata": {},
   "outputs": [],
   "source": [
    "def square():\n",
    "    sq = 4**2\n",
    "    print(sq)"
   ]
  },
  {
   "cell_type": "code",
   "execution_count": 4,
   "id": "fe201499-9af6-4a9a-8a95-551f23635ffd",
   "metadata": {},
   "outputs": [
    {
     "name": "stdout",
     "output_type": "stream",
     "text": [
      "16\n"
     ]
    }
   ],
   "source": [
    "square()"
   ]
  },
  {
   "cell_type": "code",
   "execution_count": 6,
   "id": "228df388-82e2-4588-accf-538583099297",
   "metadata": {},
   "outputs": [],
   "source": [
    "def square(value):\n",
    "    sq = value**2\n",
    "    print(sq)"
   ]
  },
  {
   "cell_type": "code",
   "execution_count": 8,
   "id": "3c169eda-bde7-46af-9ac2-5d0c4056a314",
   "metadata": {},
   "outputs": [
    {
     "name": "stdout",
     "output_type": "stream",
     "text": [
      "25\n"
     ]
    }
   ],
   "source": [
    "square(5)"
   ]
  },
  {
   "cell_type": "code",
   "execution_count": 10,
   "id": "823a61bf-cb3f-4a3f-b5d4-f89cbdc04fec",
   "metadata": {},
   "outputs": [],
   "source": [
    "def square(value):\n",
    "    sq = value**2\n",
    "    return sq"
   ]
  },
  {
   "cell_type": "code",
   "execution_count": 12,
   "id": "22931c8d-6922-4fa8-903a-be99053bf808",
   "metadata": {},
   "outputs": [
    {
     "data": {
      "text/plain": [
       "36"
      ]
     },
     "execution_count": 12,
     "metadata": {},
     "output_type": "execute_result"
    }
   ],
   "source": [
    "r = square(6)\n",
    "r"
   ]
  },
  {
   "cell_type": "code",
   "execution_count": 14,
   "id": "5854c0d8-fa6a-44be-8849-4cb3c55c34ad",
   "metadata": {},
   "outputs": [
    {
     "name": "stdout",
     "output_type": "stream",
     "text": [
      "36\n"
     ]
    }
   ],
   "source": [
    "print(r)"
   ]
  },
  {
   "cell_type": "code",
   "execution_count": 16,
   "id": "e2de9150-6048-41a9-bb21-13e513c2ab5b",
   "metadata": {},
   "outputs": [],
   "source": [
    "def square(value):\n",
    "    \"\"\"takes in value as an input and returns square of a value as an output\"\"\"\n",
    "\n",
    "    sq = value ** 2\n",
    "    return sq"
   ]
  },
  {
   "cell_type": "code",
   "execution_count": 18,
   "id": "bf6e06a7-02a1-4e65-8559-6d48d12b500c",
   "metadata": {},
   "outputs": [
    {
     "data": {
      "text/plain": [
       "100"
      ]
     },
     "execution_count": 18,
     "metadata": {},
     "output_type": "execute_result"
    }
   ],
   "source": [
    "square(10)"
   ]
  },
  {
   "cell_type": "code",
   "execution_count": 20,
   "id": "aff83b7e-e543-488d-916d-ddf3c00a189b",
   "metadata": {},
   "outputs": [],
   "source": [
    "def raise_to_power(value1,value2):\n",
    "    \"\"\"value 1 raised to the power of value 2\"\"\"\n",
    "    return value1 ** value2"
   ]
  },
  {
   "cell_type": "code",
   "execution_count": 22,
   "id": "6c3400a9-2791-42c1-b8bc-fd33023e181f",
   "metadata": {},
   "outputs": [
    {
     "data": {
      "text/plain": [
       "625"
      ]
     },
     "execution_count": 22,
     "metadata": {},
     "output_type": "execute_result"
    }
   ],
   "source": [
    "raise_to_power(5,4)"
   ]
  },
  {
   "cell_type": "code",
   "execution_count": 28,
   "id": "36aa42ba-f4ff-4a6d-9de1-4de25dc4e1aa",
   "metadata": {},
   "outputs": [],
   "source": [
    "new_value = 10\n",
    "def raise_both_values(value1, value2):\n",
    "    \"\"\"value1 raised to value2 and value2 raised to value 1\"\"\"\n",
    "    new_value1 = value1**value2\n",
    "    new_value2 = value2**value1\n",
    "\n",
    "    return (new_value1,new_value2)"
   ]
  },
  {
   "cell_type": "code",
   "execution_count": 26,
   "id": "d7065743-850f-43e0-8669-a2e9c0c03a72",
   "metadata": {},
   "outputs": [
    {
     "data": {
      "text/plain": [
       "(243, 125)"
      ]
     },
     "execution_count": 26,
     "metadata": {},
     "output_type": "execute_result"
    }
   ],
   "source": [
    "raise_both_values(3,5)"
   ]
  },
  {
   "cell_type": "code",
   "execution_count": 30,
   "id": "cefd20bb-5569-4f4a-8221-afddfa82bc95",
   "metadata": {},
   "outputs": [
    {
     "data": {
      "text/plain": [
       "10"
      ]
     },
     "execution_count": 30,
     "metadata": {},
     "output_type": "execute_result"
    }
   ],
   "source": [
    "new_value"
   ]
  },
  {
   "cell_type": "code",
   "execution_count": 32,
   "id": "4815988f-f46c-4349-a3e8-a8ef4bf0b961",
   "metadata": {},
   "outputs": [],
   "source": [
    "new_val = 10\n",
    "\n",
    "def square(value):\n",
    "    \"\"\"returns square of a value\"\"\"\n",
    "    global new_val\n",
    "    \n",
    "    return new_val**2"
   ]
  },
  {
   "cell_type": "code",
   "execution_count": 34,
   "id": "c2281f0b-1ee5-4ac6-a7c2-acae9e8dfaf8",
   "metadata": {},
   "outputs": [
    {
     "data": {
      "text/plain": [
       "100"
      ]
     },
     "execution_count": 34,
     "metadata": {},
     "output_type": "execute_result"
    }
   ],
   "source": [
    "square(3)"
   ]
  },
  {
   "cell_type": "code",
   "execution_count": 36,
   "id": "296db26d-1c01-4b0a-86dd-1b1a67856d11",
   "metadata": {},
   "outputs": [],
   "source": [
    "def mod2plus5(x1,x2,x3):\n",
    "    new_x1 = x1 % 2 + 5\n",
    "    new_x2 = x2 % 2 + 5\n",
    "    new_x3 = x3 % 2 + 5\n",
    "\n",
    "    return (new_x1,new_x2,new_x3)"
   ]
  },
  {
   "cell_type": "code",
   "execution_count": 38,
   "id": "44497b3d-9866-4877-998e-d8d006a82690",
   "metadata": {},
   "outputs": [
    {
     "data": {
      "text/plain": [
       "(5, 6, 5)"
      ]
     },
     "execution_count": 38,
     "metadata": {},
     "output_type": "execute_result"
    }
   ],
   "source": [
    "mod2plus5(10,5,2)"
   ]
  },
  {
   "cell_type": "code",
   "execution_count": 40,
   "id": "91dd6258-1f41-49c4-95e1-595c62b27b50",
   "metadata": {},
   "outputs": [],
   "source": [
    "def mod2plus5(x1,x2,x3):\n",
    "\n",
    "    def inner(x):\n",
    "        return x % 2 + 5\n",
    "    return (inner(x1),inner(x2),inner(x3))"
   ]
  },
  {
   "cell_type": "code",
   "execution_count": 42,
   "id": "a543d111-0e80-44a8-b22d-f86517c036aa",
   "metadata": {},
   "outputs": [
    {
     "data": {
      "text/plain": [
       "(5, 6, 5)"
      ]
     },
     "execution_count": 42,
     "metadata": {},
     "output_type": "execute_result"
    }
   ],
   "source": [
    "mod2plus5(10,5,2)"
   ]
  },
  {
   "cell_type": "code",
   "execution_count": 46,
   "id": "ca633daa-14fd-48b7-8be3-4ea4616ffbb7",
   "metadata": {},
   "outputs": [],
   "source": [
    "def raise_val(n):\n",
    "\n",
    "    def inner(x):\n",
    "        raised = x**n\n",
    "        return raised\n",
    "\n",
    "    return inner"
   ]
  },
  {
   "cell_type": "code",
   "execution_count": 48,
   "id": "c521b9cd-33d2-429d-9c12-1abf1ccfbed3",
   "metadata": {},
   "outputs": [
    {
     "data": {
      "text/plain": [
       "(9, 27)"
      ]
     },
     "execution_count": 48,
     "metadata": {},
     "output_type": "execute_result"
    }
   ],
   "source": [
    "square = raise_val(2)\n",
    "cube = raise_val(3)\n",
    "\n",
    "square(3), cube(3)"
   ]
  },
  {
   "cell_type": "code",
   "execution_count": 50,
   "id": "2a3a3d1c-b36c-4f61-bf3a-1fb7c7bc38e1",
   "metadata": {},
   "outputs": [],
   "source": [
    "def power(value,pow=1):\n",
    "    return value**pow\n"
   ]
  },
  {
   "cell_type": "code",
   "execution_count": 52,
   "id": "61ea18fc-b3bb-4655-a17b-9a3688a51b75",
   "metadata": {},
   "outputs": [
    {
     "data": {
      "text/plain": [
       "9"
      ]
     },
     "execution_count": 52,
     "metadata": {},
     "output_type": "execute_result"
    }
   ],
   "source": [
    "power(9)"
   ]
  },
  {
   "cell_type": "code",
   "execution_count": 54,
   "id": "c0071ed8-43ae-4751-adb2-d9556ed39981",
   "metadata": {},
   "outputs": [
    {
     "data": {
      "text/plain": [
       "81"
      ]
     },
     "execution_count": 54,
     "metadata": {},
     "output_type": "execute_result"
    }
   ],
   "source": [
    "power(9,2)"
   ]
  },
  {
   "cell_type": "code",
   "execution_count": 56,
   "id": "44fff2f7-2c32-4b3b-b17b-1f14badea6f4",
   "metadata": {},
   "outputs": [],
   "source": [
    "def add_all(*args):\n",
    "    total_sum = 0\n",
    "\n",
    "    for num in args:\n",
    "        total_sum+=num\n",
    "    return total_sum"
   ]
  },
  {
   "cell_type": "code",
   "execution_count": 58,
   "id": "ee1ae45f-06c4-4eb4-b51f-66089b9d369a",
   "metadata": {},
   "outputs": [
    {
     "data": {
      "text/plain": [
       "1"
      ]
     },
     "execution_count": 58,
     "metadata": {},
     "output_type": "execute_result"
    }
   ],
   "source": [
    "add_all(1)"
   ]
  },
  {
   "cell_type": "code",
   "execution_count": 60,
   "id": "0927b375-e0ad-4fca-a6c1-62b24a24b7bf",
   "metadata": {},
   "outputs": [
    {
     "data": {
      "text/plain": [
       "3"
      ]
     },
     "execution_count": 60,
     "metadata": {},
     "output_type": "execute_result"
    }
   ],
   "source": [
    "add_all(1,2)"
   ]
  },
  {
   "cell_type": "code",
   "execution_count": 62,
   "id": "b64259d6-97f0-4b3b-bdb6-550945536283",
   "metadata": {},
   "outputs": [],
   "source": [
    "def print_all(**kwargs):\n",
    "    \"\"\"prints k and v of the arguments\"\"\"\n",
    "    for k,v in kwargs.items():\n",
    "        print(k+\":\"+v)"
   ]
  },
  {
   "cell_type": "code",
   "execution_count": 64,
   "id": "3d2b0b7a-2367-4454-ab35-35c41359696f",
   "metadata": {},
   "outputs": [
    {
     "name": "stdout",
     "output_type": "stream",
     "text": [
      "job:headmaster\n",
      "name:Dumbledore\n"
     ]
    }
   ],
   "source": [
    "print_all(job=\"headmaster\", name=\"Dumbledore\")"
   ]
  },
  {
   "cell_type": "code",
   "execution_count": 66,
   "id": "d03b6d72-1b98-4c01-bba7-918e8753cf0a",
   "metadata": {},
   "outputs": [],
   "source": [
    "raise_to_power = lambda x,y : x**y"
   ]
  },
  {
   "cell_type": "code",
   "execution_count": 68,
   "id": "c190ddad-09e3-42c7-a6b7-331468fe7db1",
   "metadata": {},
   "outputs": [
    {
     "data": {
      "text/plain": [
       "8"
      ]
     },
     "execution_count": 68,
     "metadata": {},
     "output_type": "execute_result"
    }
   ],
   "source": [
    "raise_to_power(2,3)"
   ]
  },
  {
   "cell_type": "code",
   "execution_count": 70,
   "id": "fc88c923-1d9f-4032-840e-968722c55f53",
   "metadata": {},
   "outputs": [
    {
     "data": {
      "text/plain": [
       "[1, 4, 9, 16]"
      ]
     },
     "execution_count": 70,
     "metadata": {},
     "output_type": "execute_result"
    }
   ],
   "source": [
    "list(map(lambda x: x**2,[1,2,3,4]))"
   ]
  },
  {
   "cell_type": "code",
   "execution_count": 98,
   "id": "68618183-cc71-4550-9c9e-5d8b6446d7c9",
   "metadata": {},
   "outputs": [],
   "source": [
    "def sqrt(n):\n",
    "    if n < 0:\n",
    "        raise ValueError(\"n cannot be less than 0\")\n",
    "\n",
    "    try:\n",
    "        return n**0.5\n",
    "    except TypeError:\n",
    "        print(\"requires float or int, can't be anything else\")"
   ]
  },
  {
   "cell_type": "code",
   "execution_count": 104,
   "id": "80c6cc41-a1bb-4be1-91f8-dda28b377f5c",
   "metadata": {},
   "outputs": [
    {
     "ename": "ValueError",
     "evalue": "n cannot be less than 0",
     "output_type": "error",
     "traceback": [
      "\u001b[0;31m---------------------------------------------------------------------------\u001b[0m",
      "\u001b[0;31mValueError\u001b[0m                                Traceback (most recent call last)",
      "Cell \u001b[0;32mIn[104], line 1\u001b[0m\n\u001b[0;32m----> 1\u001b[0m sqrt(\u001b[38;5;241m-\u001b[39m\u001b[38;5;241m9\u001b[39m)\n",
      "Cell \u001b[0;32mIn[98], line 3\u001b[0m, in \u001b[0;36msqrt\u001b[0;34m(n)\u001b[0m\n\u001b[1;32m      1\u001b[0m \u001b[38;5;28;01mdef\u001b[39;00m \u001b[38;5;21msqrt\u001b[39m(n):\n\u001b[1;32m      2\u001b[0m     \u001b[38;5;28;01mif\u001b[39;00m n \u001b[38;5;241m<\u001b[39m \u001b[38;5;241m0\u001b[39m:\n\u001b[0;32m----> 3\u001b[0m         \u001b[38;5;28;01mraise\u001b[39;00m \u001b[38;5;167;01mValueError\u001b[39;00m(\u001b[38;5;124m\"\u001b[39m\u001b[38;5;124mn cannot be less than 0\u001b[39m\u001b[38;5;124m\"\u001b[39m)\n\u001b[1;32m      5\u001b[0m     \u001b[38;5;28;01mtry\u001b[39;00m:\n\u001b[1;32m      6\u001b[0m         \u001b[38;5;28;01mreturn\u001b[39;00m n\u001b[38;5;241m*\u001b[39m\u001b[38;5;241m*\u001b[39m\u001b[38;5;241m0.5\u001b[39m\n",
      "\u001b[0;31mValueError\u001b[0m: n cannot be less than 0"
     ]
    }
   ],
   "source": [
    "sqrt(-9)"
   ]
  },
  {
   "cell_type": "code",
   "execution_count": 96,
   "id": "5cc2d315-def5-4da8-8cdf-ad9549a03d22",
   "metadata": {},
   "outputs": [
    {
     "data": {
      "text/plain": [
       "1.8708286933869707"
      ]
     },
     "execution_count": 96,
     "metadata": {},
     "output_type": "execute_result"
    }
   ],
   "source": [
    "sqrt(3.5)"
   ]
  },
  {
   "cell_type": "code",
   "execution_count": null,
   "id": "3165aff3-8cfc-4a30-b997-d7f2762f1144",
   "metadata": {},
   "outputs": [],
   "source": []
  }
 ],
 "metadata": {
  "kernelspec": {
   "display_name": "Python 3 (ipykernel)",
   "language": "python",
   "name": "python3"
  },
  "language_info": {
   "codemirror_mode": {
    "name": "ipython",
    "version": 3
   },
   "file_extension": ".py",
   "mimetype": "text/x-python",
   "name": "python",
   "nbconvert_exporter": "python",
   "pygments_lexer": "ipython3",
   "version": "3.12.4"
  }
 },
 "nbformat": 4,
 "nbformat_minor": 5
}
