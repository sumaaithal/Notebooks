{
 "cells": [
  {
   "cell_type": "code",
   "execution_count": 2,
   "id": "d11aba9a-78e8-4bac-b272-3619a8ae594b",
   "metadata": {},
   "outputs": [
    {
     "name": "stdout",
     "output_type": "stream",
     "text": [
      "1\n",
      "2\n",
      "3\n",
      "4\n"
     ]
    }
   ],
   "source": [
    "a_list = [1,2,3,4]\n",
    "\n",
    "for num in a_list:\n",
    "    print(num)"
   ]
  },
  {
   "cell_type": "code",
   "execution_count": 4,
   "id": "a626471f-d8a5-4a63-80af-2002923e7bf9",
   "metadata": {},
   "outputs": [],
   "source": [
    "it = iter(a_list) #iterable"
   ]
  },
  {
   "cell_type": "code",
   "execution_count": 6,
   "id": "a5eb0c1b-6ebd-4f18-8219-a033fd08a52f",
   "metadata": {},
   "outputs": [
    {
     "data": {
      "text/plain": [
       "1"
      ]
     },
     "execution_count": 6,
     "metadata": {},
     "output_type": "execute_result"
    }
   ],
   "source": [
    "next(it) #iterator"
   ]
  },
  {
   "cell_type": "code",
   "execution_count": 8,
   "id": "7bb52ce9-bd2d-4727-a4ca-7df336e73dd9",
   "metadata": {},
   "outputs": [
    {
     "name": "stdout",
     "output_type": "stream",
     "text": [
      "2 3 4\n"
     ]
    }
   ],
   "source": [
    "print(*it)"
   ]
  },
  {
   "cell_type": "code",
   "execution_count": 12,
   "id": "35c23335-07eb-4a6b-a35a-405e80663052",
   "metadata": {},
   "outputs": [
    {
     "name": "stdout",
     "output_type": "stream",
     "text": [
      "hugo: bowne-anderson\n",
      "francis: castro\n"
     ]
    }
   ],
   "source": [
    "pythonistas = {'hugo': 'bowne-anderson', 'francis': 'castro'}\n",
    "\n",
    "for k, v in pythonistas.items():\n",
    "    print(k+\": \"+v)"
   ]
  },
  {
   "cell_type": "code",
   "execution_count": 14,
   "id": "1881b167-b3ba-4d3a-9ec5-0f47d38ebd4f",
   "metadata": {},
   "outputs": [
    {
     "data": {
      "text/plain": [
       "[(0, 'hawkeye'), (1, 'iron man'), (2, 'thor'), (3, 'qwicksilver')]"
      ]
     },
     "execution_count": 14,
     "metadata": {},
     "output_type": "execute_result"
    }
   ],
   "source": [
    "avengers = ['hawkeye','iron man','thor','qwicksilver']\n",
    "\n",
    "list(enumerate(avengers))"
   ]
  },
  {
   "cell_type": "code",
   "execution_count": 16,
   "id": "5225098a-5f78-4148-b105-d076c08ef07a",
   "metadata": {},
   "outputs": [
    {
     "name": "stdout",
     "output_type": "stream",
     "text": [
      "10: hawkeye\n",
      "11: iron man\n",
      "12: thor\n",
      "13: qwicksilver\n"
     ]
    }
   ],
   "source": [
    "avengers = ['hawkeye','iron man','thor','qwicksilver']\n",
    "\n",
    "for i,v in enumerate(avengers,start=10):\n",
    "    print(str(i)+\": \"+v)"
   ]
  },
  {
   "cell_type": "code",
   "execution_count": 20,
   "id": "17d15610-4203-4064-a4da-e397aa8c25f2",
   "metadata": {},
   "outputs": [
    {
     "data": {
      "text/plain": [
       "[('hawkeye', 'barton'),\n",
       " ('iron man', 'stark'),\n",
       " ('thor', 'odinson'),\n",
       " ('qwicksilver', 'maximoff')]"
      ]
     },
     "execution_count": 20,
     "metadata": {},
     "output_type": "execute_result"
    }
   ],
   "source": [
    "avengers = ['hawkeye','iron man','thor','qwicksilver']\n",
    "names = ['barton','stark','odinson','maximoff']\n",
    "\n",
    "list(zip(avengers,names))"
   ]
  },
  {
   "cell_type": "code",
   "execution_count": 22,
   "id": "6e29d837-1ed0-476a-a37d-43a94bb61fce",
   "metadata": {},
   "outputs": [
    {
     "name": "stdout",
     "output_type": "stream",
     "text": [
      "hawkeye barton\n",
      "iron man stark\n",
      "thor odinson\n",
      "qwicksilver maximoff\n"
     ]
    }
   ],
   "source": [
    "for z1,z2 in zip(avengers, names):\n",
    "    print(z1,z2)"
   ]
  },
  {
   "cell_type": "code",
   "execution_count": 24,
   "id": "28884e48-7243-4111-90d0-b9f197608d10",
   "metadata": {},
   "outputs": [
    {
     "name": "stdout",
     "output_type": "stream",
     "text": [
      "('hawkeye', 'barton') ('iron man', 'stark') ('thor', 'odinson') ('qwicksilver', 'maximoff')\n"
     ]
    }
   ],
   "source": [
    "z = zip(avengers,names)\n",
    "print(*z)"
   ]
  },
  {
   "cell_type": "code",
   "execution_count": null,
   "id": "3843873f-304e-492a-b9e5-2c917fe57e9e",
   "metadata": {},
   "outputs": [],
   "source": []
  },
  {
   "cell_type": "code",
   "execution_count": 26,
   "id": "aac654aa-c8e3-4983-9e14-608197f11417",
   "metadata": {},
   "outputs": [
    {
     "data": {
      "text/plain": [
       "[11, 21, 31, 41]"
      ]
     },
     "execution_count": 26,
     "metadata": {},
     "output_type": "execute_result"
    }
   ],
   "source": [
    "[num+1 for num in [10,20,30,40]]"
   ]
  },
  {
   "cell_type": "code",
   "execution_count": 28,
   "id": "a8c74b45-24fd-404f-b012-8539dc247a2d",
   "metadata": {},
   "outputs": [
    {
     "data": {
      "text/plain": [
       "[0, 1, 2, 3, 4, 5, 6, 7, 8, 9]"
      ]
     },
     "execution_count": 28,
     "metadata": {},
     "output_type": "execute_result"
    }
   ],
   "source": [
    "[num for num in range(10)]"
   ]
  },
  {
   "cell_type": "code",
   "execution_count": 30,
   "id": "d86fd9e6-d848-4ed1-85ad-1108ba9c2c9d",
   "metadata": {},
   "outputs": [
    {
     "data": {
      "text/plain": [
       "[(0, 6), (0, 7), (1, 6), (1, 7)]"
      ]
     },
     "execution_count": 30,
     "metadata": {},
     "output_type": "execute_result"
    }
   ],
   "source": [
    "[(num,num1) for num in range(0,2) for num1 in range(6,8)]"
   ]
  },
  {
   "cell_type": "code",
   "execution_count": null,
   "id": "4ad0ab98-53fd-4f41-828a-8eb0c996bd4a",
   "metadata": {},
   "outputs": [],
   "source": []
  },
  {
   "cell_type": "code",
   "execution_count": 36,
   "id": "dcf85e8d-41cf-49d6-b2aa-b3efa2c71177",
   "metadata": {},
   "outputs": [
    {
     "data": {
      "text/plain": [
       "[0, 0, 4, 0, 16, 0, 36, 0, 64, 0]"
      ]
     },
     "execution_count": 36,
     "metadata": {},
     "output_type": "execute_result"
    }
   ],
   "source": [
    "[num**2 if num%2==0 else 0 for num in range(10)]"
   ]
  },
  {
   "cell_type": "code",
   "execution_count": 38,
   "id": "8542493b-085c-42fe-a611-881d9e826efa",
   "metadata": {},
   "outputs": [
    {
     "data": {
      "text/plain": [
       "{0: 0, 1: -1, 2: -2, 3: -3, 4: -4, 5: -5, 6: -6, 7: -7, 8: -8, 9: -9}"
      ]
     },
     "execution_count": 38,
     "metadata": {},
     "output_type": "execute_result"
    }
   ],
   "source": [
    "{num:-num for num in range(10)}"
   ]
  },
  {
   "cell_type": "code",
   "execution_count": null,
   "id": "8f4877ed-a29b-41d4-b9c1-11c4946b4cad",
   "metadata": {},
   "outputs": [],
   "source": []
  },
  {
   "cell_type": "code",
   "execution_count": 42,
   "id": "54a37869-0549-433a-bef1-57e8e8b0e49e",
   "metadata": {},
   "outputs": [],
   "source": [
    "g = (num for num in range(10))"
   ]
  },
  {
   "cell_type": "code",
   "execution_count": 44,
   "id": "b53c9edf-e9ba-4e32-8008-95572818bb5a",
   "metadata": {},
   "outputs": [
    {
     "data": {
      "text/plain": [
       "0"
      ]
     },
     "execution_count": 44,
     "metadata": {},
     "output_type": "execute_result"
    }
   ],
   "source": [
    "next(g)"
   ]
  },
  {
   "cell_type": "code",
   "execution_count": 46,
   "id": "8ea3ef00-eaf6-4257-aaab-5b0b0b0d9cce",
   "metadata": {},
   "outputs": [],
   "source": [
    "g1 = (num for num in range(10) if num%2==0)"
   ]
  },
  {
   "cell_type": "code",
   "execution_count": 48,
   "id": "5b5d59db-3e39-4bd0-be64-4afbb12a4f91",
   "metadata": {},
   "outputs": [
    {
     "data": {
      "text/plain": [
       "0"
      ]
     },
     "execution_count": 48,
     "metadata": {},
     "output_type": "execute_result"
    }
   ],
   "source": [
    "next(g1)"
   ]
  },
  {
   "cell_type": "code",
   "execution_count": 52,
   "id": "60c4fea9-25fc-42ec-8475-b00dd8894260",
   "metadata": {},
   "outputs": [
    {
     "data": {
      "text/plain": [
       "2"
      ]
     },
     "execution_count": 52,
     "metadata": {},
     "output_type": "execute_result"
    }
   ],
   "source": [
    "next(g1)"
   ]
  },
  {
   "cell_type": "code",
   "execution_count": 55,
   "id": "23006915-52f8-4519-96e9-4833e6de3f7a",
   "metadata": {},
   "outputs": [],
   "source": [
    "def num_gen(n):\n",
    "    i = 0\n",
    "    while i <= n:\n",
    "        yield i \n",
    "        i+=1"
   ]
  },
  {
   "cell_type": "code",
   "execution_count": 57,
   "id": "86f7b908-155c-44c6-aa4a-a20606496649",
   "metadata": {},
   "outputs": [
    {
     "data": {
      "text/plain": [
       "0"
      ]
     },
     "execution_count": 57,
     "metadata": {},
     "output_type": "execute_result"
    }
   ],
   "source": [
    "seq = num_gen(10)\n",
    "next(seq)"
   ]
  },
  {
   "cell_type": "code",
   "execution_count": null,
   "id": "d0879564-8896-46d0-9c12-d4240de98fb0",
   "metadata": {},
   "outputs": [],
   "source": []
  },
  {
   "cell_type": "code",
   "execution_count": null,
   "id": "837b3e03-018f-4d3a-aea9-de861e0fd222",
   "metadata": {},
   "outputs": [],
   "source": []
  },
  {
   "cell_type": "code",
   "execution_count": null,
   "id": "6c348403-2eba-4191-94f2-d2294613372c",
   "metadata": {},
   "outputs": [],
   "source": []
  },
  {
   "cell_type": "code",
   "execution_count": null,
   "id": "f5058856-0b12-4c86-9765-3792bdf92173",
   "metadata": {},
   "outputs": [],
   "source": []
  }
 ],
 "metadata": {
  "kernelspec": {
   "display_name": "Python 3 (ipykernel)",
   "language": "python",
   "name": "python3"
  },
  "language_info": {
   "codemirror_mode": {
    "name": "ipython",
    "version": 3
   },
   "file_extension": ".py",
   "mimetype": "text/x-python",
   "name": "python",
   "nbconvert_exporter": "python",
   "pygments_lexer": "ipython3",
   "version": "3.12.4"
  }
 },
 "nbformat": 4,
 "nbformat_minor": 5
}
